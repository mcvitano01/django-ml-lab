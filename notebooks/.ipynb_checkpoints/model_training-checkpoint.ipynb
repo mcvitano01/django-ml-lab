{
 "cells": [
  {
   "cell_type": "code",
   "execution_count": 142,
   "metadata": {},
   "outputs": [],
   "source": [
    "import pandas as pd\n",
    "import numpy as np\n",
    "import os\n",
    "\n",
    "df = pd.read_csv(r\"https://archive.ics.uci.edu/ml/machine-learning-databases/adult/adult.data\",\n",
    "                 names = ['age', 'workclass', 'fnlwgt', 'education', 'education_num', 'marital_status',\n",
    "                         'occupation', 'relationship', 'race', 'sex', 'capital_gain', 'capital_loss', \n",
    "                         'hours_per_week', 'native_country', 'income_cat'])"
   ]
  },
  {
   "cell_type": "code",
   "execution_count": 130,
   "metadata": {},
   "outputs": [],
   "source": [
    "# -- save (temporarily) so as to not hit up UCI website on each load\n",
    "os.mkdir('tmp_data')\n",
    "\n",
    "df.to_csv('tmp_data/Adult_data.csv')\n",
    "\n",
    "# -- add to .GITIGNORE"
   ]
  },
  {
   "cell_type": "code",
   "execution_count": 131,
   "metadata": {},
   "outputs": [],
   "source": [
    "feature_names = [col for col in df.columns if col != 'income_cat']\n",
    "\n",
    "\n",
    "# -- split target from features (education_num is a recode of education)\n",
    "X = df[feature_names].drop(\"education_num\", axis=1)\n",
    "y = df['income_cat']\n",
    "del df"
   ]
  },
  {
   "cell_type": "code",
   "execution_count": 132,
   "metadata": {},
   "outputs": [],
   "source": [
    "from sklearn.model_selection import train_test_split\n",
    "\n",
    "# -- final_weight is similar for people with similar demographics and residing in the same state\n",
    "\n",
    "# -- break FULL DATA into 10 quantiles (would group by state ... but don't have that data)\n",
    "# -- ... using full data because this data is actually available prior to sampling/prediction\n",
    "X['fnlwgt_cat10'] = pd.qcut(X['fnlwgt'], q=10, labels=[f\"q{i}\" for i in range(1, 11)])\n",
    "\n",
    "# -- save object\n",
    "final_weight_cats = X.groupby('fnlwgt_cat10')['fnlwgt'].agg(['min', 'max'])\n",
    "\n",
    "# -- split train/test data\n",
    "X_train, X_test, y_train, y_test = train_test_split(X, y, test_size = 0.3, random_state=83458)"
   ]
  },
  {
   "cell_type": "code",
   "execution_count": 140,
   "metadata": {},
   "outputs": [],
   "source": [
    "# -- fill all missing continuous fields with the median value within that quantile of final_weight\n",
    "\n",
    "median_values = pd.DataFrame(index = X_train['fnlwgt_cat10'].unique())\n",
    "\n",
    "for cat in X_train['fnlwgt_cat10'].unique():\n",
    "    for col in ['age', 'fnlwgt', 'capital_gain', 'capital_loss', 'hours_per_week']:\n",
    "        value_to_replace = X_train.loc[X_train['fnlwgt_cat10']==cat][col].median()\n",
    "        \n",
    "        # -- save for testing/deployment\n",
    "        median_values.loc[cat, col] = value_to_replace\n",
    "        X_train.loc[(X_train[col].isnull()) & (X_train['fnlwgt_cat10']==cat), col] = value_to_replace\n",
    "        \n",
    "# -- combine final_weight catgories with median_values (save)\n",
    "# .to_json(orient='index')\n",
    "median_values = median_values.merge(final_weight_cats, left_index=True, right_index=True)\n",
    "median_values = median_values.to_json(orient='index')"
   ]
  },
  {
   "cell_type": "code",
   "execution_count": 136,
   "metadata": {},
   "outputs": [
    {
     "name": "stderr",
     "output_type": "stream",
     "text": [
      "<ipython-input-136-f5d62dcc8a8d>:9: SettingWithCopyWarning: \n",
      "A value is trying to be set on a copy of a slice from a DataFrame.\n",
      "Try using .loc[row_indexer,col_indexer] = value instead\n",
      "\n",
      "See the caveats in the documentation: https://pandas.pydata.org/pandas-docs/stable/user_guide/indexing.html#returning-a-view-versus-a-copy\n",
      "  X_train[col] = categorical_convert.fit_transform(X_train[col])\n"
     ]
    }
   ],
   "source": [
    "from sklearn.preprocessing import LabelEncoder\n",
    "\n",
    "# -- convert categorical fields into numerical fields\n",
    "encoders = {}\n",
    "for col in ['workclass', 'education', 'marital_status', 'occupation', 'relationship', \n",
    "            'race','sex','native_country', 'fnlwgt_cat10']:\n",
    "    \n",
    "    categorical_convert = LabelEncoder()\n",
    "    X_train[col] = categorical_convert.fit_transform(X_train[col])\n",
    "    encoders[col] = categorical_convert"
   ]
  },
  {
   "cell_type": "code",
   "execution_count": 137,
   "metadata": {},
   "outputs": [],
   "source": [
    "from sklearn.ensemble import RandomForestClassifier\n",
    "\n",
    "# -- train using random forest model\n",
    "# -- (each node: take BOOTSTRAP sample and a random selection of features -> find BEST split, continue to depth)\n",
    "rf = RandomForestClassifier(n_estimators = 100)\n",
    "rf = rf.fit(X_train, y_train)"
   ]
  },
  {
   "cell_type": "code",
   "execution_count": 138,
   "metadata": {},
   "outputs": [],
   "source": [
    "from sklearn.ensemble import ExtraTreesClassifier\n",
    "\n",
    "# -- train using extra trees model\n",
    "# -- (each node: use FULL sample and a random selection of features -> take RANDOM split, continue to depth)\n",
    "et = ExtraTreesClassifier(n_estimators = 100)\n",
    "et = et.fit(X_train, y_train)"
   ]
  },
  {
   "cell_type": "code",
   "execution_count": 141,
   "metadata": {},
   "outputs": [
    {
     "data": {
      "text/plain": [
       "['./et_model.joblib']"
      ]
     },
     "execution_count": 141,
     "metadata": {},
     "output_type": "execute_result"
    }
   ],
   "source": [
    "import joblib\n",
    "\n",
    "# -- save pre-processed data and trained models\n",
    "joblib.dump(median_values, \"./median_values.joblib\", compress=True)\n",
    "joblib.dump(encoders, \"./encoders.joblib\", compress=True)\n",
    "joblib.dump(rf, \"./rf_model.joblib\", compress=True)\n",
    "joblib.dump(et, \"./et_model.joblib\", compress=True)"
   ]
  }
 ],
 "metadata": {
  "kernelspec": {
   "display_name": "django-ml-lab-LCIjT08b",
   "language": "python",
   "name": "django-ml-lab-lcijt08b"
  },
  "language_info": {
   "codemirror_mode": {
    "name": "ipython",
    "version": 3
   },
   "file_extension": ".py",
   "mimetype": "text/x-python",
   "name": "python",
   "nbconvert_exporter": "python",
   "pygments_lexer": "ipython3",
   "version": "3.8.3"
  }
 },
 "nbformat": 4,
 "nbformat_minor": 4
}
